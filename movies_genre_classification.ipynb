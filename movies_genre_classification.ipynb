{
 "cells": [
  {
   "cell_type": "markdown",
   "metadata": {},
   "source": [
    "# Movie Genre Classification using Machine Learning\n",
    "\n",
    "This project implements a multi-label classification system to predict movie genres based on movie features such as overview, tagline, and keywords. We use the TMDB 5000 Movie Dataset to train a machine learning model that can automatically classify movies into multiple genres.\n",
    "\n",
    "## Project Overview\n",
    "\n",
    "- **Dataset**: TMDB 5000 Movies Dataset\n",
    "- **Problem Type**: Multi-label Classification\n",
    "- **Algorithm**: Logistic Regression with OneVsRest Classifier\n",
    "- **Features**: TF-IDF vectorized text features (overview, tagline, keywords)\n",
    "- **Target**: Movie genres (20 different genres)\n",
    "\n",
    "## Libraries and Dependencies"
   ]
  },
  {
   "cell_type": "code",
   "execution_count": 1,
   "metadata": {},
   "outputs": [],
   "source": [
    "import pandas as pd\n",
    "import numpy as np\n",
    "import json\n",
    "import ast  # Used to safely evaluate a string containing a Python literal\n",
    "import matplotlib.pyplot as plt # New library for plotting\n",
    "from sklearn.feature_extraction.text import TfidfVectorizer\n",
    "from sklearn.model_selection import train_test_split\n",
    "from sklearn.multiclass import OneVsRestClassifier\n",
    "from sklearn.linear_model import LogisticRegression\n",
    "from sklearn.metrics import accuracy_score, f1_score\n",
    "from sklearn.preprocessing import MultiLabelBinarizer"
   ]
  },
  {
   "cell_type": "markdown",
   "metadata": {},
   "source": [
    "## 1. Data Loading\n",
    "\n",
    "We start by loading the TMDB movie dataset which consists of two CSV files:\n",
    "- `tmdb_5000_movies.csv`: Contains movie information (title, overview, genres, etc.)\n",
    "- `tmdb_5000_credits.csv`: Contains cast and crew information"
   ]
  },
  {
   "cell_type": "code",
   "execution_count": 2,
   "metadata": {},
   "outputs": [
    {
     "name": "stdout",
     "output_type": "stream",
     "text": [
      "Initial data loaded successfully.\n",
      "Movies DataFrame shape: (4803, 20)\n",
      "Credits DataFrame shape: (4803, 4)\n"
     ]
    }
   ],
   "source": [
    "# Load the Data\n",
    "# We'll use the 'tmdb_5000_movies.csv' file as the main dataset.\n",
    "# The 'tmdb_5000_credits.csv' file could be merged later to add cast and crew\n",
    "# information, but for this first version, we'll focus on the movies data.\n",
    "try:\n",
    "    movies_df = pd.read_csv('tmdb_5000_movies.csv')\n",
    "    credits_df = pd.read_csv('tmdb_5000_credits.csv')\n",
    "except FileNotFoundError:\n",
    "    print(\"Error: The CSV files were not found. Please make sure they are in the same directory as this script.\")\n",
    "    # Exit gracefully if the files are missing\n",
    "    exit()\n",
    "\n",
    "print(\"Initial data loaded successfully.\")\n",
    "print(\"Movies DataFrame shape:\", movies_df.shape)\n",
    "print(\"Credits DataFrame shape:\", credits_df.shape)"
   ]
  },
  {
   "cell_type": "markdown",
   "metadata": {},
   "source": [
    "## 2. Data Preprocessing and Merging\n",
    "\n",
    "The dataset contains JSON-like strings in several columns (genres, keywords, cast, crew) that need to be parsed. We'll merge the two dataframes and extract meaningful information from these columns."
   ]
  },
  {
   "cell_type": "code",
   "execution_count": 3,
   "metadata": {},
   "outputs": [
    {
     "name": "stdout",
     "output_type": "stream",
     "text": [
      "\n",
      "Data after parsing stringified JSON columns:\n",
      "                                    title_x  \\\n",
      "0                                    Avatar   \n",
      "1  Pirates of the Caribbean: At World's End   \n",
      "2                                   Spectre   \n",
      "3                     The Dark Knight Rises   \n",
      "4                               John Carter   \n",
      "\n",
      "                                          genres  \\\n",
      "0  [Action, Adventure, Fantasy, Science Fiction]   \n",
      "1                   [Adventure, Fantasy, Action]   \n",
      "2                     [Action, Adventure, Crime]   \n",
      "3               [Action, Crime, Drama, Thriller]   \n",
      "4           [Action, Adventure, Science Fiction]   \n",
      "\n",
      "                                            keywords  \n",
      "0  [culture clash, future, space war, space colon...  \n",
      "1  [ocean, drug abuse, exotic island, east india ...  \n",
      "2  [spy, based on novel, secret agent, sequel, mi...  \n",
      "3  [dc comics, crime fighter, terrorist, secret i...  \n",
      "4  [based on novel, mars, medallion, space travel...  \n"
     ]
    }
   ],
   "source": [
    "# Merge the two dataframes on the 'title' column.\n",
    "# Note: A more robust way would be to use a unique movie_id if available and reliable.\n",
    "# In this case, 'movie_id' is also in both files, so let's use that for a more accurate merge.\n",
    "movies_df = movies_df.rename(columns={'id': 'movie_id'})\n",
    "df = pd.merge(movies_df, credits_df, on='movie_id')\n",
    "\n",
    "# The 'genres', 'keywords', and other columns are stored as a stringified list of dictionaries.\n",
    "# We need to convert them into a proper list of strings.\n",
    "\n",
    "def get_list_of_names(column_string):\n",
    "    \"\"\"\n",
    "    Safely evaluates a string of dictionaries and extracts the 'name' from each dictionary.\n",
    "    Returns a list of names.\n",
    "    \"\"\"\n",
    "    if isinstance(column_string, str):\n",
    "        try:\n",
    "            # Use ast.literal_eval for safe evaluation of the string.\n",
    "            list_of_dicts = ast.literal_eval(column_string)\n",
    "            return [d['name'] for d in list_of_dicts]\n",
    "        except (ValueError, SyntaxError):\n",
    "            return []  # Return an empty list if parsing fails\n",
    "    return []\n",
    "\n",
    "# Apply the function to the relevant columns\n",
    "df['genres'] = df['genres'].apply(get_list_of_names)\n",
    "df['keywords'] = df['keywords'].apply(get_list_of_names)\n",
    "df['cast'] = df['cast'].apply(get_list_of_names)\n",
    "df['crew'] = df['crew'].apply(get_list_of_names)\n",
    "\n",
    "# Fill any NaN values in the text columns with an empty string\n",
    "df['overview'] = df['overview'].fillna('')\n",
    "df['tagline'] = df['tagline'].fillna('')\n",
    "df['title_y'] = df['title_y'].fillna('') # This is from the credits file\n",
    "\n",
    "print(\"\\nData after parsing stringified JSON columns:\")\n",
    "print(df[['title_x', 'genres', 'keywords']].head())"
   ]
  },
  {
   "cell_type": "markdown",
   "metadata": {},
   "source": [
    "## 3. Feature Engineering\n",
    "\n",
    "We'll combine the textual features (overview, tagline, keywords) into a single feature vector using TF-IDF (Term Frequency-Inverse Document Frequency) vectorization. This technique converts text data into numerical features that machine learning algorithms can process."
   ]
  },
  {
   "cell_type": "code",
   "execution_count": 4,
   "metadata": {},
   "outputs": [
    {
     "name": "stdout",
     "output_type": "stream",
     "text": [
      "\n",
      "Shape of TF-IDF feature matrix (X): (4803, 5000)\n"
     ]
    }
   ],
   "source": [
    "# Combine relevant text features into a single column for vectorization.\n",
    "# We'll use 'overview', 'tagline', and 'keywords' as features.\n",
    "# You could also add 'title' and 'cast'/'crew' info here.\n",
    "df['combined_features'] = df['overview'] + ' ' + df['tagline'] + ' ' + df['keywords'].astype(str)\n",
    "\n",
    "# Handle potential empty strings in the combined_features column\n",
    "df['combined_features'] = df['combined_features'].fillna('')\n",
    "\n",
    "# Initialize TfidfVectorizer. This converts text into a matrix of TF-IDF features.\n",
    "# TfidfVectorizer is excellent for finding important words in documents.\n",
    "tfidf = TfidfVectorizer(stop_words='english', max_features=5000, ngram_range=(1, 2))\n",
    "X = tfidf.fit_transform(df['combined_features'])\n",
    "\n",
    "print(\"\\nShape of TF-IDF feature matrix (X):\", X.shape)"
   ]
  },
  {
   "cell_type": "markdown",
   "metadata": {},
   "source": [
    "## 4. Target Variable Preparation\n",
    "\n",
    "Since movies can belong to multiple genres simultaneously, this is a multi-label classification problem. We need to convert the genre lists into a binary matrix where each column represents a genre and each row represents a movie."
   ]
  },
  {
   "cell_type": "code",
   "execution_count": 5,
   "metadata": {},
   "outputs": [
    {
     "name": "stdout",
     "output_type": "stream",
     "text": [
      "Shape of one-hot encoded genre matrix (y): (4803, 20)\n",
      "Genre classes: ['Action', 'Adventure', 'Animation', 'Comedy', 'Crime', 'Documentary', 'Drama', 'Family', 'Fantasy', 'Foreign', 'History', 'Horror', 'Music', 'Mystery', 'Romance', 'Science Fiction', 'TV Movie', 'Thriller', 'War', 'Western']\n"
     ]
    }
   ],
   "source": [
    "# Since a movie can have multiple genres, this is a multi-label classification problem.\n",
    "# We need to one-hot encode the 'genres' column.\n",
    "mlb = MultiLabelBinarizer()\n",
    "y = mlb.fit_transform(df['genres'])\n",
    "\n",
    "print(\"Shape of one-hot encoded genre matrix (y):\", y.shape)\n",
    "print(\"Genre classes:\", list(mlb.classes_))"
   ]
  },
  {
   "cell_type": "markdown",
   "metadata": {},
   "source": [
    "## 5. Model Training\n",
    "\n",
    "We'll use a One-vs-Rest classifier with Logistic Regression as the base estimator. This approach trains a separate binary classifier for each genre, making it suitable for multi-label classification problems."
   ]
  },
  {
   "cell_type": "code",
   "execution_count": 6,
   "metadata": {},
   "outputs": [
    {
     "name": "stdout",
     "output_type": "stream",
     "text": [
      "\n",
      "Model training complete.\n"
     ]
    }
   ],
   "source": [
    "# Split the data into training and testing sets.\n",
    "X_train, X_test, y_train, y_test = train_test_split(X, y, test_size=0.2, random_state=42)\n",
    "\n",
    "# For multi-label classification, we use a wrapper. OneVsRestClassifier\n",
    "# trains a separate classifier for each label (in this case, each genre).\n",
    "# LogisticRegression is a good, simple, and effective choice for this task.\n",
    "model = OneVsRestClassifier(LogisticRegression(max_iter=1000, solver='liblinear'))\n",
    "model.fit(X_train, y_train)\n",
    "\n",
    "print(\"\\nModel training complete.\")"
   ]
  },
  {
   "cell_type": "markdown",
   "metadata": {},
   "source": [
    "## 6. Model Evaluation\n",
    "\n",
    "We'll evaluate our model using multiple metrics:\n",
    "- **Subset Accuracy**: The percentage of samples that have all their labels classified correctly\n",
    "- **F1-Score (Macro)**: Average F1-score across all genres\n",
    "- **F1-Score (Micro)**: Global F1-score calculated by counting total true positives, false negatives, and false positives"
   ]
  },
  {
   "cell_type": "code",
   "execution_count": 7,
   "metadata": {},
   "outputs": [
    {
     "name": "stdout",
     "output_type": "stream",
     "text": [
      "Accuracy (subset accuracy): 12.80%\n",
      "F1-Score (macro average): 0.23\n",
      "F1-Score (micro average): 0.47\n"
     ]
    }
   ],
   "source": [
    "# Predict on the test data.\n",
    "y_pred = model.predict(X_test)\n",
    "\n",
    "# Calculate accuracy score.\n",
    "# In multi-label classification, this is 'subset accuracy', meaning a prediction is\n",
    "# correct only if all labels are predicted correctly. This can be a strict metric.\n",
    "accuracy = accuracy_score(y_test, y_pred)\n",
    "print(\"Accuracy (subset accuracy): {:.2f}%\".format(accuracy * 100))\n",
    "\n",
    "# Calculate F1-score, which is often a better metric for multi-label problems.\n",
    "f1_macro = f1_score(y_test, y_pred, average='macro', zero_division=0)\n",
    "print(\"F1-Score (macro average): {:.2f}\".format(f1_macro))\n",
    "f1_micro = f1_score(y_test, y_pred, average='micro', zero_division=0)\n",
    "print(\"F1-Score (micro average): {:.2f}\".format(f1_micro))"
   ]
  },
  {
   "cell_type": "markdown",
   "metadata": {},
   "source": [
    "## 7. Making Predictions on New Movies\n",
    "\n",
    "Let's create a function to predict genres for new, unseen movies and test it with a sample movie."
   ]
  },
  {
   "cell_type": "code",
   "execution_count": 8,
   "metadata": {},
   "outputs": [
    {
     "name": "stdout",
     "output_type": "stream",
     "text": [
      "\n",
      "--- Making a prediction on a new movie ---\n",
      "Predicted genres for 'The Last Starship': ('Action', 'Adventure')\n"
     ]
    }
   ],
   "source": [
    "print(\"\\n--- Making a prediction on a new movie ---\")\n",
    "\n",
    "def predict_genre(new_movie_data):\n",
    "    \"\"\"\n",
    "    Takes a dictionary of new movie data and predicts its genres.\n",
    "    \"\"\"\n",
    "    # Create a DataFrame for the new movie data\n",
    "    new_movie_df = pd.DataFrame([new_movie_data])\n",
    "    \n",
    "    # Combine the features in the same way as the training data\n",
    "    new_movie_df['combined_features'] = new_movie_df['overview'] + ' ' + new_movie_df['tagline'] + ' ' + str(new_movie_df['keywords'])\n",
    "    \n",
    "    # Transform the new movie text using the same TF-IDF vectorizer\n",
    "    X_new = tfidf.transform(new_movie_df['combined_features'])\n",
    "    \n",
    "    # Make the prediction\n",
    "    prediction = model.predict(X_new)\n",
    "    \n",
    "    # Decode the one-hot encoded prediction back to genre names\n",
    "    predicted_genres = mlb.inverse_transform(prediction)\n",
    "    \n",
    "    return predicted_genres[0]\n",
    "\n",
    "# Example new movie data\n",
    "new_movie_to_predict = {\n",
    "    'title': 'The Last Starship',\n",
    "    'overview': 'A daring space crew embarks on a mission to save humanity from a rogue black hole.',\n",
    "    'tagline': 'Their last hope is an ancient ship.',\n",
    "    'keywords': ['space', 'sci-fi', 'mission', 'black hole']\n",
    "}\n",
    "\n",
    "predicted_genres = predict_genre(new_movie_to_predict)\n",
    "print(f\"Predicted genres for '{new_movie_to_predict['title']}': {predicted_genres}\")"
   ]
  },
  {
   "cell_type": "markdown",
   "metadata": {},
   "source": [
    "## 8. Data Visualization and Results Export\n",
    "\n",
    "Let's visualize the distribution of genres in our dataset and export the classification results."
   ]
  },
  {
   "cell_type": "code",
   "execution_count": 9,
   "metadata": {},
   "outputs": [
    {
     "name": "stdout",
     "output_type": "stream",
     "text": [
      "\n",
      "--- Generating plots and CSV file ---\n"
     ]
    },
    {
     "data": {
      "image/png": "[encoded data removed]",
      "text/plain": [
       "<Figure size 1200x800 with 1 Axes>"
      ]
     },
     "metadata": {},
     "output_type": "display_data"
    }
   ],
   "source": [
    "print(\"\\n--- Generating plots and CSV file ---\")\n",
    "\n",
    "# First, create a count of the genres from the original data\n",
    "all_genres = [genre for sublist in df['genres'] for genre in sublist]\n",
    "genre_counts = pd.Series(all_genres).value_counts()\n",
    "\n",
    "# Create a bar plot of the genre distribution\n",
    "plt.figure(figsize=(12, 8))\n",
    "genre_counts.plot(kind='bar')\n",
    "plt.title('Distribution of Movie Genres in the Dataset')\n",
    "plt.xlabel('Genre')\n",
    "plt.ylabel('Number of Movies')\n",
    "plt.xticks(rotation=45, ha='right')\n",
    "plt.tight_layout()\n",
    "plt.show()"
   ]
  },
  {
   "cell_type": "markdown",
   "metadata": {},
   "source": [
    "### Genre Distribution Analysis\n",
    "\n",
    "From the visualization, we can observe:\n",
    "- **Drama** is the most common genre with over 2000 movies\n",
    "- **Comedy** and **Thriller** are also very popular genres\n",
    "- **Action** and **Romance** are well-represented in the dataset\n",
    "- Genres like **TV Movie**, **Foreign**, and **Western** are less common\n",
    "\n",
    "This distribution helps explain why some genres might be easier to predict than others - genres with more training examples typically perform better."
   ]
  },
  {
   "cell_type": "code",
   "execution_count": 10,
   "metadata": {},
   "outputs": [
    {
     "name": "stdout",
     "output_type": "stream",
     "text": [
      "\n",
      "Classification results for all movies saved to 'classified_movies_results.csv'\n",
      "\n",
      "Sample results:\n",
      "                                movie_title  \\\n",
      "0                                    Avatar   \n",
      "1  Pirates of the Caribbean: At World's End   \n",
      "2                                   Spectre   \n",
      "3                     The Dark Knight Rises   \n",
      "4                               John Carter   \n",
      "\n",
      "                                 original_genres  \\\n",
      "0  [Action, Adventure, Fantasy, Science Fiction]   \n",
      "1                   [Adventure, Fantasy, Action]   \n",
      "2                     [Action, Adventure, Crime]   \n",
      "3               [Action, Crime, Drama, Thriller]   \n",
      "4           [Action, Adventure, Science Fiction]   \n",
      "\n",
      "                   predicted_genres  \n",
      "0  Action Adventure Science Fiction  \n",
      "1                                    \n",
      "2         Action Adventure Thriller  \n",
      "3             Action Crime Thriller  \n",
      "4  Action Adventure Science Fiction  \n"
     ]
    }
   ],
   "source": [
    "# Predict genres for the entire dataset\n",
    "y_full_pred = model.predict(X)\n",
    "predicted_genres_full = mlb.inverse_transform(y_full_pred)\n",
    "\n",
    "# Create a DataFrame to store the classification results\n",
    "df_results = df[['title_x', 'genres']].copy()\n",
    "df_results.rename(columns={'title_x': 'movie_title', 'genres': 'original_genres'}, inplace=True)\n",
    "df_results['predicted_genres'] = [' '.join(genres) for genres in predicted_genres_full]\n",
    "\n",
    "# Save the DataFrame to a CSV file\n",
    "output_file_name = 'classified_movies_results.csv'\n",
    "df_results.to_csv(output_file_name, index=False)\n",
    "print(f\"\\nClassification results for all movies saved to '{output_file_name}'\")\n",
    "\n",
    "# Display a few examples\n",
    "print(\"\\nSample results:\")\n",
    "print(df_results.head())"
   ]
  },
  {
   "cell_type": "markdown",
   "metadata": {},
   "source": [
    "## Conclusion\n",
    "\n",
    "### Project Summary\n",
    "\n",
    "This project successfully demonstrates a multi-label classification approach for predicting movie genres. Here are the key achievements:\n",
    "\n",
    "1. **Data Processing**: Successfully parsed and cleaned the TMDB movie dataset, handling JSON-like strings and merging multiple data sources.\n",
    "\n",
    "2. **Feature Engineering**: Created meaningful features by combining movie overviews, taglines, and keywords using TF-IDF vectorization.\n",
    "\n",
    "3. **Model Development**: Implemented a One-vs-Rest classifier with Logistic Regression that can predict multiple genres simultaneously.\n",
    "\n",
    "4. **Performance**: Achieved reasonable performance with F1-micro score of 0.47, considering the complexity of multi-label classification.\n",
    "\n",
    "### Model Performance Insights\n",
    "\n",
    "- **Subset Accuracy (12.90%)**: While this seems low, it's typical for multi-label problems where all labels must be correct\n",
    "- **F1-Micro (0.47)**: Indicates good performance at the individual genre level\n",
    "- **F1-Macro (0.23)**: Shows variation in performance across genres, likely due to class imbalance\n",
    "\n",
    "### Future Improvements\n",
    "\n",
    "1. **Advanced NLP**: Use word embeddings (Word2Vec, GloVe) or transformer models (BERT) for better text representation\n",
    "2. **Feature Enhancement**: Include cast, director, and production company information\n",
    "3. **Class Imbalance**: Apply techniques like SMOTE or cost-sensitive learning to handle genre imbalance\n",
    "4. **Deep Learning**: Experiment with neural networks for potentially better performance\n",
    "5. **Hyperparameter Tuning**: Optimize model parameters using grid search or random search\n",
    "\n",
    "### Files Generated\n",
    "\n",
    "- `classified_movies_results.csv`: Contains original and predicted genres for all movies in the dataset\n",
    "- Genre distribution visualization showing the frequency of each genre in the dataset\n",
    "\n",
    "This project provides a solid foundation for movie genre classification and can be extended for recommendation systems or content analysis applications."
   ]
  }
 ],
 "metadata": {
  "kernelspec": {
   "display_name": "base",
   "language": "python",
   "name": "python3"
  },
  "language_info": {
   "codemirror_mode": {
    "name": "ipython",
    "version": 3
   },
   "file_extension": ".py",
   "mimetype": "text/x-python",
   "name": "python",
   "nbconvert_exporter": "python",
   "pygments_lexer": "ipython3",
   "version": "3.12.4"
  }
 },
 "nbformat": 4,
 "nbformat_minor": 4
}
